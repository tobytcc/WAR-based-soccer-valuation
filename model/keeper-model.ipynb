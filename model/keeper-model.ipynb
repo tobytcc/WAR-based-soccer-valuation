{
 "cells": [
  {
   "cell_type": "markdown",
   "metadata": {},
   "source": [
    "This model generates WAR statistics for every player.\n",
    "\n",
    "We can use a rudimentary approach:\n",
    "1. Partition our data to train each model for each position + league.\n",
    "2. Conduct dimensionality reduction using principal component analysis (PCA) to reduce features of each dataset into a singular WAR statistic.\n",
    "3. Train each model to generate a WAR statistic for every player.\n",
    "\n",
    "We can start with the keepers - they have a smaller dataset and much less features (much less per90 data types).\n",
    "\n",
    "We have adapted the \"keepers\" dataset to only contain relevant per90 statistics (no counting stats), and removed keepers with less than 5 games to prevent extreme outliers.\n",
    "\n",
    "Definitions for statistics can be found [here](https://fbref.com/en/comps/Big5/keepersadv/players/Big-5-European-Leagues-Stats)"
   ]
  },
  {
   "cell_type": "code",
   "execution_count": 47,
   "metadata": {},
   "outputs": [],
   "source": [
    "# Basic Setup\n",
    "import os\n",
    "import pandas as pd\n",
    "import numpy as np\n",
    "from sklearn.preprocessing import StandardScaler\n",
    "from sklearn.decomposition import PCA\n",
    "\n",
    "# Change to your local folder before editing\n",
    "os.chdir(\"C:/Users/tobyt/Desktop/Coding/Personal/wins-above-replacement-soccer/WAR-based-soccer-valuation\")"
   ]
  },
  {
   "cell_type": "code",
   "execution_count": 48,
   "metadata": {},
   "outputs": [],
   "source": [
    "# Importing dataframes\n",
    "overall_keepers_dataset = pd.read_csv(\"./model/keepers_final_vF.csv\")\n",
    "weights_df = pd.read_csv(\"./model/weights/keepers-stats-weights.csv\")\n",
    "\n",
    "keepers_columns = weights_df[\"stat\"].to_list()\n",
    "keepers_weights = weights_df[\"weight\"].to_numpy()\n",
    "keepers_stat_direction = weights_df[\"direction\"].to_numpy()\n",
    "\n",
    "# Filtering players that only start 5+ games\n",
    "overall_keepers_dataset_filtered = overall_keepers_dataset[(overall_keepers_dataset.Starts_Playing >= 5)]\n",
    "\n",
    "# Removing NaN observations\n",
    "overall_keepers_dataset_filtered = overall_keepers_dataset_filtered.dropna(subset=keepers_columns).reset_index()\n",
    "\n",
    "overall_keepers_dataset_modified = overall_keepers_dataset_filtered[keepers_columns].copy()"
   ]
  },
  {
   "cell_type": "code",
   "execution_count": 49,
   "metadata": {},
   "outputs": [],
   "source": [
    "# Goals allowed needs to be reversed - lower number is better\n",
    "overall_keepers_dataset_modified = overall_keepers_dataset_modified * keepers_stat_direction\n",
    "\n",
    "# Scaling our dataset\n",
    "overall_keepers_dataset_scaled = StandardScaler().fit_transform(overall_keepers_dataset_modified)\n",
    "\n",
    "# Weights of each stat - Remove if unnecessary\n",
    "overall_keepers_dataset_weighted = overall_keepers_dataset_scaled * keepers_weights"
   ]
  },
  {
   "cell_type": "code",
   "execution_count": 50,
   "metadata": {},
   "outputs": [],
   "source": [
    "# PCA decomposition\n",
    "pca = PCA(n_components=1)\n",
    "pca_features = pca.fit_transform(overall_keepers_dataset_weighted)\n",
    "\n",
    "war = pd.DataFrame(pca_features)\n",
    "war.columns = [\"calculated_war\"]\n",
    "war[\"calculated_war\"] = war[\"calculated_war\"] * -1\n",
    "\n",
    "overall_keepers_dataset_filtered.insert(overall_keepers_dataset_filtered.columns.get_loc(\"unique_ID\") + 1, \"calculated_war\", war[\"calculated_war\"])\n"
   ]
  },
  {
   "cell_type": "code",
   "execution_count": 51,
   "metadata": {},
   "outputs": [],
   "source": [
    "# Percentile Calculations - rough approximation\n",
    "sorted_war = np.sort(war[\"calculated_war\"])\n",
    "percentile_ranks = (sorted_war < war[\"calculated_war\"].values[:,None]).mean(axis=1)\n",
    "percentile_ranks = np.round(percentile_ranks, decimals=4) * 100\n",
    "overall_keepers_dataset_filtered.insert(overall_keepers_dataset_filtered.columns.get_loc(\"unique_ID\") + 2, \"percentile\", percentile_ranks)"
   ]
  },
  {
   "cell_type": "code",
   "execution_count": 52,
   "metadata": {},
   "outputs": [],
   "source": [
    "if os.path.exists(\"./output/PCA/overall_keepers_war.csv\"):\n",
    "    os.remove(\"./output/PCA/overall_keepers_war.csv\")\n",
    "\n",
    "overall_keepers_dataset_filtered.to_csv(\"./output/PCA/overall_keepers_war.csv\")\n"
   ]
  },
  {
   "cell_type": "markdown",
   "metadata": {},
   "source": [
    "We can apply the same approach across all 5 leagues - players that stand out more in a position that is less-talented in a certain league will have a higher league-WAR than overall-WAR.\n",
    "\n",
    "_This approach is heavy-handed - we have applied it for keepers because it's faster than deriving a method that is different than outfield players._"
   ]
  },
  {
   "cell_type": "code",
   "execution_count": 53,
   "metadata": {},
   "outputs": [],
   "source": [
    "# League-wide calculations\n",
    "overall_keepers_dataset_ENG = overall_keepers_dataset[(overall_keepers_dataset.Comp == \"Premier League\")]\n",
    "overall_keepers_dataset_ESP = overall_keepers_dataset[(overall_keepers_dataset.Comp == \"La Liga\")]\n",
    "overall_keepers_dataset_GER = overall_keepers_dataset[(overall_keepers_dataset.Comp == \"Bundesliga\")]\n",
    "overall_keepers_dataset_ITA = overall_keepers_dataset[(overall_keepers_dataset.Comp == \"Serie A\")]\n",
    "overall_keepers_dataset_FRA = overall_keepers_dataset[(overall_keepers_dataset.Comp == \"Ligue 1\")]\n",
    "\n",
    "# Data Cleaning:\n",
    "# Filtering players that only start 5+ games\n",
    "overall_keepers_dataset_filtered_ENG = overall_keepers_dataset_ENG[(overall_keepers_dataset_ENG.Starts_Playing >= 5)]\n",
    "overall_keepers_dataset_filtered_ESP = overall_keepers_dataset_ESP[(overall_keepers_dataset_ESP.Starts_Playing >= 5)]\n",
    "overall_keepers_dataset_filtered_GER = overall_keepers_dataset_GER[(overall_keepers_dataset_GER.Starts_Playing >= 5)]\n",
    "overall_keepers_dataset_filtered_ITA = overall_keepers_dataset_ITA[(overall_keepers_dataset_ITA.Starts_Playing >= 5)]\n",
    "overall_keepers_dataset_filtered_FRA = overall_keepers_dataset_FRA[(overall_keepers_dataset_FRA.Starts_Playing >= 5)]\n",
    "\n",
    "# Removing NaN observations\n",
    "overall_keepers_dataset_filtered_ENG = overall_keepers_dataset_filtered_ENG.dropna(subset=keepers_columns).reset_index()\n",
    "overall_keepers_dataset_filtered_ESP = overall_keepers_dataset_filtered_ESP.dropna(subset=keepers_columns).reset_index()\n",
    "overall_keepers_dataset_filtered_GER = overall_keepers_dataset_filtered_GER.dropna(subset=keepers_columns).reset_index()\n",
    "overall_keepers_dataset_filtered_ITA = overall_keepers_dataset_filtered_ITA.dropna(subset=keepers_columns).reset_index()\n",
    "overall_keepers_dataset_filtered_FRA = overall_keepers_dataset_filtered_FRA.dropna(subset=keepers_columns).reset_index()\n",
    "\n",
    "overall_keepers_dataset_modified_ENG = overall_keepers_dataset_filtered_ENG[keepers_columns].copy()\n",
    "overall_keepers_dataset_modified_ESP = overall_keepers_dataset_filtered_ESP[keepers_columns].copy()\n",
    "overall_keepers_dataset_modified_GER = overall_keepers_dataset_filtered_GER[keepers_columns].copy()\n",
    "overall_keepers_dataset_modified_ITA = overall_keepers_dataset_filtered_ITA[keepers_columns].copy()\n",
    "overall_keepers_dataset_modified_FRA = overall_keepers_dataset_filtered_FRA[keepers_columns].copy()"
   ]
  },
  {
   "cell_type": "code",
   "execution_count": 54,
   "metadata": {},
   "outputs": [],
   "source": [
    "# Goals allowed needs to be reversed - lower number is better\n",
    "overall_keepers_dataset_modified_ENG = overall_keepers_dataset_modified_ENG * keepers_stat_direction\n",
    "overall_keepers_dataset_modified_ESP = overall_keepers_dataset_modified_ESP * keepers_stat_direction\n",
    "overall_keepers_dataset_modified_GER = overall_keepers_dataset_modified_GER * keepers_stat_direction\n",
    "overall_keepers_dataset_modified_ITA = overall_keepers_dataset_modified_ITA * keepers_stat_direction\n",
    "overall_keepers_dataset_modified_FRA = overall_keepers_dataset_modified_FRA * keepers_stat_direction\n",
    "\n",
    "# Scaling our dataset\n",
    "overall_keepers_dataset_scaled_ENG = StandardScaler().fit_transform(overall_keepers_dataset_modified_ENG)\n",
    "overall_keepers_dataset_scaled_ESP = StandardScaler().fit_transform(overall_keepers_dataset_modified_ESP)\n",
    "overall_keepers_dataset_scaled_GER = StandardScaler().fit_transform(overall_keepers_dataset_modified_GER)\n",
    "overall_keepers_dataset_scaled_ITA = StandardScaler().fit_transform(overall_keepers_dataset_modified_ITA)\n",
    "overall_keepers_dataset_scaled_FRA = StandardScaler().fit_transform(overall_keepers_dataset_modified_FRA)\n",
    "\n",
    "# Weights of each stat - Remove if unnecessary\n",
    "overall_keepers_dataset_weighted_ENG = overall_keepers_dataset_scaled_ENG * keepers_weights\n",
    "overall_keepers_dataset_weighted_ESP = overall_keepers_dataset_scaled_ESP * keepers_weights\n",
    "overall_keepers_dataset_weighted_GER = overall_keepers_dataset_scaled_GER * keepers_weights\n",
    "overall_keepers_dataset_weighted_ITA = overall_keepers_dataset_scaled_ITA * keepers_weights\n",
    "overall_keepers_dataset_weighted_FRA = overall_keepers_dataset_scaled_FRA * keepers_weights"
   ]
  },
  {
   "cell_type": "code",
   "execution_count": 55,
   "metadata": {},
   "outputs": [],
   "source": [
    "# PCA decomposition\n",
    "pca = PCA(n_components=1)\n",
    "\n",
    "pca_features_ENG = pca.fit_transform(overall_keepers_dataset_weighted_ENG)\n",
    "pca_features_ESP = pca.fit_transform(overall_keepers_dataset_weighted_ESP)\n",
    "pca_features_GER = pca.fit_transform(overall_keepers_dataset_weighted_GER)\n",
    "pca_features_ITA = pca.fit_transform(overall_keepers_dataset_weighted_ITA)\n",
    "pca_features_FRA = pca.fit_transform(overall_keepers_dataset_weighted_FRA)\n",
    "\n",
    "\n",
    "war_ENG = pd.DataFrame(pca_features_ENG)\n",
    "war_ESP = pd.DataFrame(pca_features_ESP)\n",
    "war_GER = pd.DataFrame(pca_features_GER)\n",
    "war_ITA = pd.DataFrame(pca_features_ITA)\n",
    "war_FRA = pd.DataFrame(pca_features_FRA)\n",
    "\n",
    "war_ENG.columns = [\"calculated_war\"]\n",
    "war_ESP.columns = [\"calculated_war\"]\n",
    "war_GER.columns = [\"calculated_war\"]\n",
    "war_ITA.columns = [\"calculated_war\"]\n",
    "war_FRA.columns = [\"calculated_war\"]\n",
    "\n",
    "war_ENG[\"calculated_war\"] = war_ENG[\"calculated_war\"] * -1\n",
    "war_ESP[\"calculated_war\"] = war_ESP[\"calculated_war\"] * -1\n",
    "war_GER[\"calculated_war\"] = war_GER[\"calculated_war\"] * -1\n",
    "war_ITA[\"calculated_war\"] = war_ITA[\"calculated_war\"] * -1\n",
    "war_FRA[\"calculated_war\"] = war_FRA[\"calculated_war\"] * -1\n",
    "\n",
    "\n",
    "overall_keepers_dataset_filtered_ENG.insert(overall_keepers_dataset_filtered_ENG.columns.get_loc(\"unique_ID\") + 1, \"calculated_war\", war_ENG[\"calculated_war\"])\n",
    "overall_keepers_dataset_filtered_ESP.insert(overall_keepers_dataset_filtered_ESP.columns.get_loc(\"unique_ID\") + 1, \"calculated_war\", war_ESP[\"calculated_war\"])\n",
    "overall_keepers_dataset_filtered_GER.insert(overall_keepers_dataset_filtered_GER.columns.get_loc(\"unique_ID\") + 1, \"calculated_war\", war_GER[\"calculated_war\"])\n",
    "overall_keepers_dataset_filtered_ITA.insert(overall_keepers_dataset_filtered_ITA.columns.get_loc(\"unique_ID\") + 1, \"calculated_war\", war_ITA[\"calculated_war\"])\n",
    "overall_keepers_dataset_filtered_FRA.insert(overall_keepers_dataset_filtered_FRA.columns.get_loc(\"unique_ID\") + 1, \"calculated_war\", war_FRA[\"calculated_war\"])\n"
   ]
  },
  {
   "cell_type": "code",
   "execution_count": 56,
   "metadata": {},
   "outputs": [],
   "source": [
    "# Percentile Calculations - rough approximation\n",
    "sorted_war_ENG = np.sort(war_ENG[\"calculated_war\"])\n",
    "sorted_war_ESP = np.sort(war_ESP[\"calculated_war\"])\n",
    "sorted_war_GER = np.sort(war_GER[\"calculated_war\"])\n",
    "sorted_war_ITA = np.sort(war_ITA[\"calculated_war\"])\n",
    "sorted_war_FRA = np.sort(war_FRA[\"calculated_war\"])\n",
    "\n",
    "percentile_ranks_ENG = (sorted_war_ENG < war_ENG[\"calculated_war\"].values[:,None]).mean(axis=1)\n",
    "percentile_ranks_ESP = (sorted_war_ESP < war_ESP[\"calculated_war\"].values[:,None]).mean(axis=1)\n",
    "percentile_ranks_GER = (sorted_war_GER < war_GER[\"calculated_war\"].values[:,None]).mean(axis=1)\n",
    "percentile_ranks_ITA = (sorted_war_ITA < war_ITA[\"calculated_war\"].values[:,None]).mean(axis=1)\n",
    "percentile_ranks_FRA = (sorted_war_FRA < war_FRA[\"calculated_war\"].values[:,None]).mean(axis=1)\n",
    "\n",
    "percentile_ranks_ENG = np.round(percentile_ranks_ENG, decimals=4) * 100\n",
    "percentile_ranks_ESP = np.round(percentile_ranks_ESP, decimals=4) * 100\n",
    "percentile_ranks_GER = np.round(percentile_ranks_GER, decimals=4) * 100\n",
    "percentile_ranks_ITA = np.round(percentile_ranks_ITA, decimals=4) * 100\n",
    "percentile_ranks_FRA = np.round(percentile_ranks_FRA, decimals=4) * 100\n",
    "\n",
    "overall_keepers_dataset_filtered_ENG.insert(overall_keepers_dataset_filtered_ENG.columns.get_loc(\"unique_ID\") + 2, \"percentile\", percentile_ranks_ENG)\n",
    "overall_keepers_dataset_filtered_ESP.insert(overall_keepers_dataset_filtered_ESP.columns.get_loc(\"unique_ID\") + 2, \"percentile\", percentile_ranks_ESP)\n",
    "overall_keepers_dataset_filtered_GER.insert(overall_keepers_dataset_filtered_GER.columns.get_loc(\"unique_ID\") + 2, \"percentile\", percentile_ranks_GER)\n",
    "overall_keepers_dataset_filtered_ITA.insert(overall_keepers_dataset_filtered_ITA.columns.get_loc(\"unique_ID\") + 2, \"percentile\", percentile_ranks_ITA)\n",
    "overall_keepers_dataset_filtered_FRA.insert(overall_keepers_dataset_filtered_FRA.columns.get_loc(\"unique_ID\") + 2, \"percentile\", percentile_ranks_FRA)"
   ]
  },
  {
   "cell_type": "code",
   "execution_count": 57,
   "metadata": {},
   "outputs": [],
   "source": [
    "if os.path.exists(\"./output/PCA/overall_keepers_war_ENG.csv\"):\n",
    "    os.remove(\"./output/PCA/overall_keepers_war_ENG.csv\")\n",
    "if os.path.exists(\"./output/PCA/overall_keepers_war_ESP.csv\"):\n",
    "    os.remove(\"./output/PCA/overall_keepers_war_ESP.csv\")\n",
    "if os.path.exists(\"./output/PCA/overall_keepers_war_GER.csv\"):\n",
    "    os.remove(\"./output/PCA/overall_keepers_war_GER.csv\")\n",
    "if os.path.exists(\"./output/PCA/overall_keepers_war_ITA.csv\"):\n",
    "    os.remove(\"./output/PCA/overall_keepers_war_ITA.csv\")\n",
    "if os.path.exists(\"./output/PCA/overall_keepers_war_FRA.csv\"):\n",
    "    os.remove(\"./output/PCA/overall_keepers_war_FRA.csv\")\n",
    "\n",
    "overall_keepers_dataset_filtered.to_csv(\"./output/PCA/overall_keepers_war_ENG.csv\")\n",
    "overall_keepers_dataset_filtered.to_csv(\"./output/PCA/overall_keepers_war_ESP.csv\")\n",
    "overall_keepers_dataset_filtered.to_csv(\"./output/PCA/overall_keepers_war_GER.csv\")\n",
    "overall_keepers_dataset_filtered.to_csv(\"./output/PCA/overall_keepers_war_ITA.csv\")\n",
    "overall_keepers_dataset_filtered.to_csv(\"./output/PCA/overall_keepers_war_FRA.csv\")"
   ]
  },
  {
   "cell_type": "markdown",
   "metadata": {},
   "source": [
    "It is possible to adjust the fit for every model in future - tweak how the model values WAR based on inputs (e.g. putting higher weight on starters, removing non-starters for interference, etc.)"
   ]
  }
 ],
 "metadata": {
  "kernelspec": {
   "display_name": "war-soccer",
   "language": "python",
   "name": "python3"
  },
  "language_info": {
   "codemirror_mode": {
    "name": "ipython",
    "version": 3
   },
   "file_extension": ".py",
   "mimetype": "text/x-python",
   "name": "python",
   "nbconvert_exporter": "python",
   "pygments_lexer": "ipython3",
   "version": "3.11.4"
  },
  "orig_nbformat": 4
 },
 "nbformat": 4,
 "nbformat_minor": 2
}
