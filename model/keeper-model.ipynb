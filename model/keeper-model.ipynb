{
 "cells": [
  {
   "cell_type": "markdown",
   "metadata": {},
   "source": [
    "This model generates WAR statistics for every player.\n",
    "\n",
    "We can use a rudimentary approach:\n",
    "1. Partition our data to train each model for each position + league.\n",
    "2. Conduct dimensionality reduction using principal component analysis (PCA) to reduce features of each dataset into a singular WAR statistic.\n",
    "3. Train each model to generate a WAR statistic for every player.\n",
    "\n",
    "We can start with the keepers - they have a smaller dataset and much less features (much less per90 data types).\n",
    "\n",
    "We have adapted the \"keepers\" dataset to only contain relevant per90 statistics (no counting stats), and removed keepers with less than 5 games to prevent extreme outliers.\n",
    "\n",
    "Definitions for statistics can be found [here](https://fbref.com/en/comps/Big5/keepersadv/players/Big-5-European-Leagues-Stats)"
   ]
  },
  {
   "cell_type": "code",
   "execution_count": 2,
   "metadata": {},
   "outputs": [],
   "source": [
    "# Basic Setup\n",
    "import os\n",
    "import pandas as pd\n",
    "from sklearn.preprocessing import StandardScaler\n",
    "from sklearn.decomposition import PCA"
   ]
  },
  {
   "cell_type": "code",
   "execution_count": 28,
   "metadata": {},
   "outputs": [],
   "source": [
    "# TODO: WAR stat does not make sense - suspected that it's mixing good (save%) and bad (goals allowed/90) together\n",
    "# UPDATE: reversed and weighted statistics but still doesn't work - needs investigation\n",
    "# UPDATE2: ATM best players are at bottom of list - NOT SURE WHY\n",
    "\n",
    "# TODO: need to better arrange data pipeline - ALL data should result in same file as calculated war \n",
    "# Only two files needed - final + weights (stat + weight) - keep all columns with stat names and drop all else\n",
    "\n",
    "overall_keepers_dataset = pd.read_csv(\"C:/Users/Toby Chiu/Desktop/Coding/Personal Projects/Personal/wins-above-rep-soccer/model/keepers_final_vPCA.csv\")\n",
    "overall_keepers_dataset_modified = overall_keepers_dataset.drop(columns=[\"unique_ID\", \"Comp\", \"Unnamed: 0\"])"
   ]
  },
  {
   "cell_type": "code",
   "execution_count": 29,
   "metadata": {},
   "outputs": [],
   "source": [
    "# Goals allowed needs to be reversed - lower number is better\n",
    "overall_keepers_dataset_modified[\"GA90\"] = overall_keepers_dataset_modified[\"GA90\"]*-1\n",
    "\n",
    "# Scaling our dataset\n",
    "overall_keepers_dataset_scaled = StandardScaler().fit_transform(overall_keepers_dataset_modified)\n",
    "\n",
    "    # Weights of each stat - Remove if unnecessary\n",
    "weights_df = pd.read_csv(\"C:/Users/Toby Chiu/Desktop/Coding/Personal Projects/Personal/wins-above-rep-soccer/model/weights/keepers-stats-weights.csv\")\n",
    "keepers_weights = weights_df[\"weight\"].to_numpy()\n",
    "overall_keepers_dataset_weighted = overall_keepers_dataset_scaled * keepers_weights"
   ]
  },
  {
   "cell_type": "code",
   "execution_count": 30,
   "metadata": {},
   "outputs": [],
   "source": [
    "# PCA decomposition\n",
    "pca = PCA(n_components=1)\n",
    "pca_features = pca.fit_transform(overall_keepers_dataset_scaled)\n",
    "\n",
    "war = pd.DataFrame(pca_features)\n",
    "war.columns = [\"calculated_war\"]\n",
    "war[\"calculated_war\"] = war[\"calculated_war\"] * -1\n",
    "overall_keepers_output = overall_keepers_dataset.join(war)"
   ]
  },
  {
   "cell_type": "code",
   "execution_count": 31,
   "metadata": {},
   "outputs": [],
   "source": [
    "if os.path.exists(\"C:/Users/Toby Chiu/Desktop/Coding/Personal Projects/Personal/wins-above-rep-soccer/output/PCA/overall_keepers_war.csv\"):\n",
    "    os.remove(\"C:/Users/Toby Chiu/Desktop/Coding/Personal Projects/Personal/wins-above-rep-soccer/output/PCA/overall_keepers_war.csv\")\n",
    "\n",
    "overall_keepers_output.to_csv(\"C:/Users/Toby Chiu/Desktop/Coding/Personal Projects/Personal/wins-above-rep-soccer/output/PCA/overall_keepers_war.csv\")\n"
   ]
  },
  {
   "cell_type": "markdown",
   "metadata": {},
   "source": [
    "We need to adjust the fit for every model - tweak how the model values WAR based on inputs (e.g. putting higher weight on starters, removing non-starters for interference, etc.)"
   ]
  }
 ],
 "metadata": {
  "kernelspec": {
   "display_name": "war-soccer",
   "language": "python",
   "name": "python3"
  },
  "language_info": {
   "codemirror_mode": {
    "name": "ipython",
    "version": 3
   },
   "file_extension": ".py",
   "mimetype": "text/x-python",
   "name": "python",
   "nbconvert_exporter": "python",
   "pygments_lexer": "ipython3",
   "version": "3.11.4"
  },
  "orig_nbformat": 4
 },
 "nbformat": 4,
 "nbformat_minor": 2
}
