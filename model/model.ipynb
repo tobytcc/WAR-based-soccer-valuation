{
 "cells": [
  {
   "cell_type": "markdown",
   "metadata": {},
   "source": [
    "This model generates WAR statistics for every player.\n",
    "\n",
    "We can use a rudimentary approach:\n",
    "1. For every league and position, add a player with: (1) an average of per90 statistics for every player, (2) 0.0 WAR (a truly \"average\" theoretical player).\n",
    "2. Partition our data to train each model for each position + league.\n",
    "3. Train each model to generate a WAR statistic for every player.\n",
    "\n",
    "We can start with the keepers - they have a smaller dataset and much less features (much less per90 data types)."
   ]
  },
  {
   "cell_type": "code",
   "execution_count": null,
   "metadata": {},
   "outputs": [],
   "source": [
    "# Basic Setup\n",
    "\n",
    "import pandas as pd"
   ]
  },
  {
   "cell_type": "markdown",
   "metadata": {},
   "source": [
    "We need to adjust the fit for every model - tweak how the model values WAR based on inputs (e.g. putting higher weight on starters, removing non-starters for interference, etc.)"
   ]
  }
 ],
 "metadata": {
  "language_info": {
   "name": "python"
  },
  "orig_nbformat": 4
 },
 "nbformat": 4,
 "nbformat_minor": 2
}
