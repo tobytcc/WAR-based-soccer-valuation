{
 "cells": [
  {
   "cell_type": "markdown",
   "metadata": {},
   "source": [
    "This model generates WAR statistics for every player.\n",
    "\n",
    "We can use a rudimentary approach:\n",
    "1. Partition our data to train each model for each position + league.\n",
    "2. Conduct dimensionality reduction using principal component analysis (PCA) to reduce features of each dataset into a singular WAR statistic.\n",
    "3. Train each model to generate a WAR statistic for every player.\n",
    "\n",
    "We have adapted the \"outfield\" dataset to only contain relevant per90 statistics (no counting stats), and removed players with less than 5 games to prevent extreme outliers.\n",
    "\n",
    "Definitions for basic statistics can be found [here](https://fbref.com/en/comps/Big5/stats/players/Big-5-European-Leagues-Stats). For other types of statistics, go to \"Player Stats\" > _\"Statistic\"_"
   ]
  },
  {
   "cell_type": "code",
   "execution_count": 1,
   "metadata": {},
   "outputs": [],
   "source": [
    "# Basic Setup\n",
    "import os\n",
    "import pandas as pd\n",
    "import numpy as np\n",
    "from sklearn.preprocessing import StandardScaler\n",
    "from sklearn.decomposition import PCA\n",
    "\n",
    "os.chdir(\"C:/Users/tobyt/Desktop/Coding/Personal/wins-above-replacement-soccer/WAR-based-soccer-valuation\")"
   ]
  },
  {
   "cell_type": "code",
   "execution_count": null,
   "metadata": {},
   "outputs": [],
   "source": [
    "# TODO: Need an easier method of generating all WAR values for outfield players with the same methodology\n",
    "# TODO: Think about visualisation - Python or R interactive?\n",
    "# TODO: currently working prototype for keepers - as expected - Gavin Bazunu's 2023 season is at -3.2 WAR but he is worth 15mil (overvaluation)"
   ]
  }
 ],
 "metadata": {
  "kernelspec": {
   "display_name": "env",
   "language": "python",
   "name": "python3"
  },
  "language_info": {
   "codemirror_mode": {
    "name": "ipython",
    "version": 3
   },
   "file_extension": ".py",
   "mimetype": "text/x-python",
   "name": "python",
   "nbconvert_exporter": "python",
   "pygments_lexer": "ipython3",
   "version": "3.11.4"
  },
  "orig_nbformat": 4
 },
 "nbformat": 4,
 "nbformat_minor": 2
}
