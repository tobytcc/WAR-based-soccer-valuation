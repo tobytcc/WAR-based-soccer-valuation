{
 "cells": [
  {
   "attachments": {},
   "cell_type": "markdown",
   "metadata": {},
   "source": [
    "This file is meant to complete the data cleaning and create two datasets ready for analysis: one for outfield players, and one for keepers."
   ]
  },
  {
   "cell_type": "code",
   "execution_count": 1,
   "metadata": {},
   "outputs": [],
   "source": [
    "# Libraries\n",
    "import pandas as pd\n",
    "from unidecode import unidecode"
   ]
  },
  {
   "cell_type": "code",
   "execution_count": 2,
   "metadata": {},
   "outputs": [],
   "source": [
    "## Importing datasets\n",
    "standard = pd.read_csv('C:/Users/Toby Chiu/Desktop/Coding/Personal Projects/Personal/wins-above-rep-soccer/data/raw-df/big5_player_standard.csv')\n",
    "shooting = pd.read_csv('C:/Users/Toby Chiu/Desktop/Coding/Personal Projects/Personal/wins-above-rep-soccer/data/raw-df/big5_player_shooting.csv')\n",
    "passing = pd.read_csv('C:/Users/Toby Chiu/Desktop/Coding/Personal Projects/Personal/wins-above-rep-soccer/data/raw-df/big5_player_passing.csv')\n",
    "passing_types = pd.read_csv('C:/Users/Toby Chiu/Desktop/Coding/Personal Projects/Personal/wins-above-rep-soccer/data/raw-df/big5_player_passing_types.csv')\n",
    "gca = pd.read_csv('C:/Users/Toby Chiu/Desktop/Coding/Personal Projects/Personal/wins-above-rep-soccer/data/raw-df/big5_player_gca.csv')\n",
    "defense = pd.read_csv('C:/Users/Toby Chiu/Desktop/Coding/Personal Projects/Personal/wins-above-rep-soccer/data/raw-df/big5_player_defense.csv')\n",
    "possession = pd.read_csv('C:/Users/Toby Chiu/Desktop/Coding/Personal Projects/Personal/wins-above-rep-soccer/data/raw-df/big5_player_possession.csv')\n",
    "playing_time = pd.read_csv('C:/Users/Toby Chiu/Desktop/Coding/Personal Projects/Personal/wins-above-rep-soccer/data/raw-df/big5_player_playing_time.csv')\n",
    "misc = pd.read_csv('C:/Users/Toby Chiu/Desktop/Coding/Personal Projects/Personal/wins-above-rep-soccer/data/raw-df/big5_player_misc.csv')\n",
    "keepers = pd.read_csv('C:/Users/Toby Chiu/Desktop/Coding/Personal Projects/Personal/wins-above-rep-soccer/data/raw-df/big5_player_keepers.csv')\n",
    "keepers_adv = pd.read_csv('C:/Users/Toby Chiu/Desktop/Coding/Personal Projects/Personal/wins-above-rep-soccer/data/raw-df/big5_player_keepers_adv.csv')\n",
    "outfield_valuation = pd.read_csv('C:/Users/Toby Chiu/Desktop/Coding/Personal Projects/Personal/wins-above-rep-soccer/data/raw-df/outfield_player_valuations.csv')\n",
    "keepers_valuation = pd.read_csv('C:/Users/Toby Chiu/Desktop/Coding/Personal Projects/Personal/wins-above-rep-soccer/data/raw-df/keeper_player_valuations.csv')\n"
   ]
  },
  {
   "attachments": {},
   "cell_type": "markdown",
   "metadata": {},
   "source": [
    "## Data Cleaning\n",
    "\n",
    "Manual Inspection reveals a low % rate of error in consistency across datasets.\n",
    "\n",
    "We can conduct some data cleaning to reduce systematic errors when joining datasets.\n",
    "\n",
    "We will use a full outer join to combine our datasets using the \"unique_ID\" as the link, remedying any errors later."
   ]
  },
  {
   "cell_type": "code",
   "execution_count": 3,
   "metadata": {},
   "outputs": [],
   "source": [
    "outfield = [standard, shooting, passing, passing_types, gca, defense, possession, playing_time, misc, outfield_valuation]\n",
    "keepers = [keepers, keepers_adv, keepers_valuation]"
   ]
  },
  {
   "cell_type": "code",
   "execution_count": 4,
   "metadata": {},
   "outputs": [],
   "source": [
    "# Data Cleaning: Transliterating names with accents into standard English across all datasets\n",
    "# UPDATE: works now\n",
    "for df in outfield:\n",
    "    temp = df[\"unique_ID\"]\n",
    "    temp = temp.apply(unidecode)\n",
    "    df[\"unique_ID\"] = temp\n"
   ]
  },
  {
   "cell_type": "code",
   "execution_count": 6,
   "metadata": {},
   "outputs": [],
   "source": [
    "# Full outer join on both datasets\n",
    "#outfield = [of.set_index('unique_ID') for of in outfield]\n",
    "#outfield_full = outfield[0].join(outfield[1:])\n",
    "\n",
    "# TODO: This part does not quite work - there are still duplicate and conflicting entries despite same unique_ID\n",
    "# Also need to finish the keepers part\n",
    "merged_df = outfield[0].copy()\n",
    "\n",
    "for i in range(1, 10):\n",
    "    merged_df = pd.merge(merged_df, outfield[i], how='inner', on='unique_ID', suffixes=('', '_remove'))\n",
    "    merged_df.drop([x for x in merged_df.columns if 'remove' in x], axis = 1, inplace=True)\n",
    "\n",
    "outfield_final = merged_df.drop_duplicates()"
   ]
  }
 ],
 "metadata": {
  "kernelspec": {
   "display_name": "war-soccer",
   "language": "python",
   "name": "python3"
  },
  "language_info": {
   "codemirror_mode": {
    "name": "ipython",
    "version": 3
   },
   "file_extension": ".py",
   "mimetype": "text/x-python",
   "name": "python",
   "nbconvert_exporter": "python",
   "pygments_lexer": "ipython3",
   "version": "3.11.4"
  },
  "orig_nbformat": 4
 },
 "nbformat": 4,
 "nbformat_minor": 2
}
