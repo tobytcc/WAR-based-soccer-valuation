{
 "cells": [
  {
   "attachments": {},
   "cell_type": "markdown",
   "metadata": {},
   "source": [
    "This file is meant to complete the data cleaning and create two datasets ready for analysis: one for outfield players, and one for keepers."
   ]
  },
  {
   "cell_type": "code",
   "execution_count": 1,
   "metadata": {},
   "outputs": [],
   "source": [
    "# Libraries\n",
    "import pandas as pd\n",
    "from unidecode import unidecode"
   ]
  },
  {
   "cell_type": "code",
   "execution_count": 99,
   "metadata": {},
   "outputs": [],
   "source": [
    "## Importing datasets\n",
    "standard = pd.read_csv('C:/Users/Toby Chiu/Desktop/Coding/Personal Projects/Personal/wins-above-rep-soccer/data/raw-df/big5_player_standard.csv')\n",
    "shooting = pd.read_csv('C:/Users/Toby Chiu/Desktop/Coding/Personal Projects/Personal/wins-above-rep-soccer/data/raw-df/big5_player_shooting.csv')\n",
    "passing = pd.read_csv('C:/Users/Toby Chiu/Desktop/Coding/Personal Projects/Personal/wins-above-rep-soccer/data/raw-df/big5_player_passing.csv')\n",
    "passing_types = pd.read_csv('C:/Users/Toby Chiu/Desktop/Coding/Personal Projects/Personal/wins-above-rep-soccer/data/raw-df/big5_player_passing_types.csv')\n",
    "gca = pd.read_csv('C:/Users/Toby Chiu/Desktop/Coding/Personal Projects/Personal/wins-above-rep-soccer/data/raw-df/big5_player_gca.csv')\n",
    "defense = pd.read_csv('C:/Users/Toby Chiu/Desktop/Coding/Personal Projects/Personal/wins-above-rep-soccer/data/raw-df/big5_player_defense.csv')\n",
    "possession = pd.read_csv('C:/Users/Toby Chiu/Desktop/Coding/Personal Projects/Personal/wins-above-rep-soccer/data/raw-df/big5_player_possession.csv')\n",
    "playing_time = pd.read_csv('C:/Users/Toby Chiu/Desktop/Coding/Personal Projects/Personal/wins-above-rep-soccer/data/raw-df/big5_player_playing_time.csv')\n",
    "misc = pd.read_csv('C:/Users/Toby Chiu/Desktop/Coding/Personal Projects/Personal/wins-above-rep-soccer/data/raw-df/big5_player_misc.csv')\n",
    "keepers_base = pd.read_csv('C:/Users/Toby Chiu/Desktop/Coding/Personal Projects/Personal/wins-above-rep-soccer/data/raw-df/big5_player_keepers.csv')\n",
    "keepers_adv = pd.read_csv('C:/Users/Toby Chiu/Desktop/Coding/Personal Projects/Personal/wins-above-rep-soccer/data/raw-df/big5_player_keepers_adv.csv')\n",
    "outfield_valuation = pd.read_csv('C:/Users/Toby Chiu/Desktop/Coding/Personal Projects/Personal/wins-above-rep-soccer/data/raw-df/outfield_player_valuations.csv')\n",
    "keepers_valuation = pd.read_csv('C:/Users/Toby Chiu/Desktop/Coding/Personal Projects/Personal/wins-above-rep-soccer/data/raw-df/keeper_player_valuations.csv')\n"
   ]
  },
  {
   "attachments": {},
   "cell_type": "markdown",
   "metadata": {},
   "source": [
    "## Data Cleaning\n",
    "\n",
    "Manual Inspection reveals a low % rate of error in consistency across datasets.\n",
    "\n",
    "We can conduct some data cleaning to reduce systematic errors when joining datasets.\n",
    "\n",
    "We will use a full outer join to combine our datasets using the \"unique_ID\" as the link, remedying any errors later."
   ]
  },
  {
   "cell_type": "code",
   "execution_count": 100,
   "metadata": {},
   "outputs": [],
   "source": [
    "outfield = [standard, shooting, passing, passing_types, gca, defense, possession, playing_time, misc, outfield_valuation]\n",
    "keepers = [keepers_base, keepers_adv, keepers_valuation]"
   ]
  },
  {
   "cell_type": "code",
   "execution_count": 101,
   "metadata": {},
   "outputs": [],
   "source": [
    "# Creating a unique ID per club - in case player decides to transfer mid-season\n",
    "# This approach can standardize club names across FBref and TM datasets\n",
    "\n",
    "# Creating a squad name \"translater\"\n",
    "clubs_fbref = shooting[\"Squad\"].copy()\n",
    "clubs_tm = outfield_valuation[\"squad\"].copy()\n",
    "club_translate = pd.concat([clubs_fbref, clubs_tm], axis=1, join='inner')\n",
    "\n",
    "for col in [\"squad\", \"Squad\"]:\n",
    "    club_translate[col] = club_translate[col].apply(unidecode)\n",
    "\n",
    "# club_translate.to_csv(\"C:/Users/Toby Chiu/Desktop/Coding/Personal Projects/Personal/wins-above-rep-soccer/data/club_translate.csv\")"
   ]
  },
  {
   "cell_type": "code",
   "execution_count": 102,
   "metadata": {},
   "outputs": [],
   "source": [
    "# Using club_translater to change all club names from TM datasets to FBref club names\n",
    "\n",
    "club_translate =  pd.read_csv(\"C:/Users/Toby Chiu/Desktop/Coding/Personal Projects/Personal/wins-above-rep-soccer/data/club_translate.csv\")\n",
    "translater = dict(zip(club_translate.TM_squad, club_translate.FBref_Squad))\n",
    "\n",
    "outfield_valuation = outfield_valuation.replace({\"squad\": translater})\n",
    "keepers_valuation = keepers_valuation.replace({\"squad\": translater})\n",
    "\n",
    "# update unique_ID with club\n",
    "for df in outfield[:-1]:\n",
    "    df[\"unique_ID\"] = df[[\"unique_ID\", \"Squad\"]].agg(\"_\".join, axis=1)\n",
    "for df in keepers[:-1]:\n",
    "    df[\"unique_ID\"] = df[[\"unique_ID\", \"Squad\"]].agg(\"_\".join, axis=1)\n",
    "\n",
    "\n",
    "outfield_valuation[\"unique_ID\"] = outfield_valuation[[\"unique_ID\", \"squad\"]].agg(\"_\".join, axis=1)\n",
    "keepers_valuation[\"unique_ID\"] = keepers_valuation[[\"unique_ID\", \"squad\"]].agg(\"_\".join, axis=1)\n"
   ]
  },
  {
   "cell_type": "code",
   "execution_count": 103,
   "metadata": {},
   "outputs": [],
   "source": [
    "outfield_valuation = outfield_valuation[[\"unique_ID\", \"player_market_value_euro\"]]\n",
    "keepers_valuation = keepers_valuation[[\"unique_ID\", \"player_market_value_euro\"]]\n",
    "\n",
    "outfield = [standard, shooting, passing, passing_types, gca, defense, possession, playing_time, misc, outfield_valuation]\n",
    "keepers = [keepers_base, keepers_adv, keepers_valuation]"
   ]
  },
  {
   "cell_type": "code",
   "execution_count": 104,
   "metadata": {},
   "outputs": [],
   "source": [
    "# Data Cleaning: Transliterating names with accents into standard English across all datasets\n",
    "# UPDATE: works now\n",
    "for df in outfield:\n",
    "    temp = df[\"unique_ID\"]\n",
    "    temp = temp.apply(unidecode)\n",
    "    df[\"unique_ID\"] = temp\n",
    "\n",
    "for df in keepers:\n",
    "    temp = df[\"unique_ID\"]\n",
    "    temp = temp.apply(unidecode)\n",
    "    df[\"unique_ID\"] = temp"
   ]
  },
  {
   "cell_type": "code",
   "execution_count": 105,
   "metadata": {},
   "outputs": [],
   "source": [
    "# Full outer join on both datasets\n",
    "\n",
    "# TODO: At the moment there are 2 issues\n",
    "    # Lots of players have empty columns\n",
    "    # If a player transfers, his stats are tied to his old club, but his value is tied to his new club\n",
    "merged_df = outfield[0].copy()\n",
    "\n",
    "\n",
    "for i in range(1, 10):\n",
    "    merged_df = pd.merge(merged_df, outfield[i], how='outer', on='unique_ID', suffixes=('', '_remove'))\n",
    "    merged_df.drop([x for x in merged_df.columns if 'remove' in x], axis = 1, inplace=True)\n",
    "    merged_df = merged_df[merged_df.columns[~merged_df.columns.isin([\"Unnamed: 0\", \"Season_End_Year\", \"Player\", \"Squad\"])]]\n",
    "\n",
    "outfield_final = merged_df.drop_duplicates()\n",
    "\n",
    "merged_keepers_df = keepers[0].copy()\n",
    "\n",
    "for i in range(1, 3):\n",
    "    merged_keepers_df = pd.merge(merged_keepers_df, keepers[i], how='outer', on='unique_ID', suffixes=('', '_remove'))\n",
    "    merged_keepers_df.drop([x for x in merged_keepers_df.columns if 'remove' in x], axis = 1, inplace=True)\n",
    "    merged_keepers_df = merged_keepers_df[merged_keepers_df.columns[~merged_keepers_df.columns.isin([\"Unnamed: 0\", \"Season_End_Year\", \"Player\", \"Squad\"])]]\n",
    "\n",
    "keepers_final = merged_keepers_df.drop_duplicates()"
   ]
  },
  {
   "cell_type": "code",
   "execution_count": 106,
   "metadata": {},
   "outputs": [],
   "source": [
    "outfield_final.to_csv(\"C:/Users/Toby Chiu/Desktop/Coding/Personal Projects/Personal/wins-above-rep-soccer/data/outfield_final.csv\")\n",
    "keepers_final.to_csv(\"C:/Users/Toby Chiu/Desktop/Coding/Personal Projects/Personal/wins-above-rep-soccer/data/keepers_final.csv\")"
   ]
  }
 ],
 "metadata": {
  "kernelspec": {
   "display_name": "war-soccer",
   "language": "python",
   "name": "python3"
  },
  "language_info": {
   "codemirror_mode": {
    "name": "ipython",
    "version": 3
   },
   "file_extension": ".py",
   "mimetype": "text/x-python",
   "name": "python",
   "nbconvert_exporter": "python",
   "pygments_lexer": "ipython3",
   "version": "3.11.4"
  },
  "orig_nbformat": 4
 },
 "nbformat": 4,
 "nbformat_minor": 2
}
